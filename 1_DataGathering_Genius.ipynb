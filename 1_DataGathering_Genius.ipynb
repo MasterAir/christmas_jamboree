{
 "cells": [
  {
   "cell_type": "code",
   "execution_count": null,
   "metadata": {},
   "outputs": [],
   "source": [
    "import lyricsgenius\n",
    "import pandas as pd\n",
    "import datetime as dt\n",
    "import time\n",
    "import os\n",
    "\n",
    "import certifi\n",
    "certifi.where() #incase you need to add ssl certs"
   ]
  },
  {
   "cell_type": "code",
   "execution_count": null,
   "metadata": {},
   "outputs": [],
   "source": [
    "genius = lyricsgenius.Genius(\"rl0rzlsvRISoZV_yKGB7fzmxoo7RxC-wEG_uuZtQVAIpWtdZB6fAPGbY_Zv7K5pg\")\n",
    "genius.verbose = False # Turn off status messages\n",
    "genius.remove_section_headers = True # Remove section headers (e.g. [Chorus]) from lyrics when searching\n",
    "genius.skip_non_songs = False # Include hits thought to be non-songs (e.g. track lists)\n",
    "genius.excluded_terms = [\"(Remix)\", \"(Live)\"] # Exclude songs with these words in their title"
   ]
  },
  {
   "cell_type": "markdown",
   "metadata": {},
   "source": [
    "# Test"
   ]
  },
  {
   "cell_type": "code",
   "execution_count": null,
   "metadata": {},
   "outputs": [],
   "source": [
    "artist = genius.search_artist(\"Andy Shauf\", max_songs=3, sort=\"title\")\n",
    "song = genius.search_song(\"To You\", artist.name)\n",
    "print(artist.songs)\n",
    "print(song.lyrics)"
   ]
  },
  {
   "cell_type": "markdown",
   "metadata": {},
   "source": [
    "# all Christmas top 40s"
   ]
  },
  {
   "cell_type": "code",
   "execution_count": null,
   "metadata": {},
   "outputs": [],
   "source": [
    "def populate_lyrics(df, savename):\n",
    "\n",
    "    count = 0\n",
    "    df[\"LYRICS\"] = None\n",
    "    for index, row in df.iterrows():\n",
    "        \n",
    "        print(f\"{dt.datetime.now().strftime('%H:%M %d/%m/%Y')} - Searching for {row['Artist']} and  {row['Song']}\", end = \" : \")\n",
    "        \n",
    "        # search for the artist\n",
    "        try:\n",
    "            artist = genius.search_artist(row[\"Artist\"], sort=\"popularity\", max_songs=3)\n",
    "        except:\n",
    "            continue\n",
    "        if artist is None:\n",
    "            print(\"Artist not available\")\n",
    "            continue\n",
    "        \n",
    "        # search for the song lyrics\n",
    "        try:\n",
    "            song = genius.search_song(row[\"Song\"], artist.name)\n",
    "        except:\n",
    "            continue\n",
    "        if song is None:\n",
    "            print(\"Song not available\")\n",
    "            continue\n",
    "        \n",
    "        # add to the dataframe\n",
    "        df.loc[index,\"LYRICS\"] = song.lyrics\n",
    "        \n",
    "        #\n",
    "        print(f\"Lyrics added\")\n",
    "        \n",
    "        # dont overload the website\n",
    "        time.sleep(1)\n",
    "        \n",
    "        count+=1\n",
    "        \n",
    "        # save regularly\n",
    "        if count%20 == 0:\n",
    "            save_df(df, savename)\n",
    "        \n",
    "    save_df(df, savename)\n",
    "        \n",
    "    return df\n",
    "\n",
    "def save_df(df, name):\n",
    "    print(f\"{dt.datetime.now().strftime('%H:%M %d/%m/%Y')} - SAVING\")\n",
    "    df.replace(\"\\n\", \"--\").to_csv(f\"{name}.csv\", )\n",
    "    df.reset_index().to_feather(f\"{name}.feather\")\n",
    "    df.to_pickle(f\"{name}.pkl\")"
   ]
  },
  {
   "cell_type": "code",
   "execution_count": null,
   "metadata": {},
   "outputs": [],
   "source": [
    "start = dt.datetime.now().strftime(\"%H:%M %d/%m/%Y\")\n",
    "print(start)\n",
    "\n",
    "chart_file_path = r\"C:\\Users\\rachel.hassall\\OneDrive - National Grid\\GitHub\\NG-DSc-Christmas-Jamboree\\data\\Weekly top 100 2010-2020 (Singles)\\singles_2009_2020.csv\"\n",
    "\n",
    "\n",
    "chart_file_path = r\"C:\\Users\\rachel.hassall\\OneDrive - National Grid\\GitHub\\NG-DSc-Christmas-Jamboree\\data\\Weekly top 100 2010-2020 (Singles)\\singles_2009_2020_lyrics Part 3.csv\"\n",
    "savename = r\"C:\\Users\\rachel.hassall\\OneDrive - National Grid\\GitHub\\NG-DSc-Christmas-Jamboree\\data\\Weekly top 100 2010-2020 (Singles)\\singles_2009_2020_lyrics Part 3\"\n",
    "\n",
    "df = pd.read_csv(chart_file_path)\n",
    "\n",
    "# get list of unique artist/song combos\n",
    "df = df.groupby([\"Song\", \"Artist\"]).nunique().reset_index()[[\"Artist\", \"Song\"]]\n",
    "\n",
    "print(f\"{len(df)} rows to get lyrics for\")\n",
    "\n",
    "df = populate_lyrics(df, savename)\n",
    "    "
   ]
  },
  {
   "cell_type": "code",
   "execution_count": null,
   "metadata": {},
   "outputs": [],
   "source": [
    "df.tail()"
   ]
  },
  {
   "cell_type": "markdown",
   "metadata": {},
   "source": [
    "# all christmas number 1s"
   ]
  },
  {
   "cell_type": "code",
   "execution_count": null,
   "metadata": {},
   "outputs": [],
   "source": [
    "#df = pd.read_csv(r\"C:\\Users\\rachel.hassall\\Downloads\\All_xmas_no1s.csv\")\n",
    "df = df.drop(\"Unnamed: 0\", axis=1)\n",
    "df.head()"
   ]
  },
  {
   "cell_type": "code",
   "execution_count": null,
   "metadata": {},
   "outputs": [],
   "source": [
    "df[\"LYRICS\"] = None\n",
    "for index, row in df.iterrows(): \n",
    "    print(row['ARTIST'], row['TITLE'])\n",
    "    \n",
    "    # search for the artist\n",
    "    try:\n",
    "        artist = genius.search_artist(row[\"ARTIST\"], sort=\"popularity\", max_songs=3)\n",
    "    except:\n",
    "        continue\n",
    "    if artist is None:\n",
    "        print(\"Artist not available\")\n",
    "        continue\n",
    "    \n",
    "    # search for the song lyrics\n",
    "    try:\n",
    "        song = genius.search_song(row[\"TITLE\"], artist.name)\n",
    "    except:\n",
    "        continue\n",
    "    if song is None:\n",
    "        print(\"Song not available\")\n",
    "        continue\n",
    "    \n",
    "    # add to the dataframe\n",
    "    df.loc[index,\"LYRICS\"] = song.lyrics\n",
    "    \n",
    "    # dont overload the website\n",
    "    time.sleep(1)"
   ]
  },
  {
   "cell_type": "code",
   "execution_count": null,
   "metadata": {},
   "outputs": [],
   "source": [
    "# check the data\n",
    "df.head()"
   ]
  },
  {
   "cell_type": "code",
   "execution_count": null,
   "metadata": {},
   "outputs": [],
   "source": [
    "# remove the weird stuff\n",
    "df.loc[13,\"LYRICS\"] = None"
   ]
  },
  {
   "cell_type": "code",
   "execution_count": null,
   "metadata": {},
   "outputs": [],
   "source": [
    "df.replace(\"\\n\", \"--\").to_csv(\"All_xmas_no1s_with_lyrics.csv\", )"
   ]
  },
  {
   "cell_type": "code",
   "execution_count": null,
   "metadata": {},
   "outputs": [],
   "source": [
    "df.reset_index().to_feather(\"All_xmas_no1s_with_lyrics.feather\")"
   ]
  },
  {
   "cell_type": "code",
   "execution_count": null,
   "metadata": {},
   "outputs": [],
   "source": [
    "df"
   ]
  },
  {
   "cell_type": "code",
   "execution_count": null,
   "metadata": {},
   "outputs": [],
   "source": [
    "##get list of files\n",
    "#file_dict = {}\n",
    "#\n",
    "#for root, directories, files in os.walk(r\"C:\\Users\\rachel.hassall\\OneDrive - National Grid\\GitHub\\NG-DSc-Christmas-Jamboree\\data\\Christmas Top 40s\",):\n",
    "#    for file in files:\n",
    "#        name = os.path.splitext(file)[0]\n",
    "#        filetype = os.path.splitext(file)[1]\n",
    "#        path = os.path.join(root, file)\n",
    "#        \n",
    "#        if filetype==\".csv\":\n",
    "#            file_dict[name] = path"
   ]
  },
  {
   "cell_type": "code",
   "execution_count": null,
   "metadata": {},
   "outputs": [],
   "source": [
    "#df_dict = {}\n",
    "#\n",
    "## iterate from 2019 backwards in case takes too long\n",
    "#for name in sorted(file_dict.keys(), reverse=True):\n",
    "#    path = file_dict[name]\n",
    "#    df = pd.read_csv(path)\n",
    "#    try:\n",
    "#        print(\"-------------------------------------------------------------------------------------------------------------------\")\n",
    "#        print(name)\n",
    "#        df = df.drop(\"Unnamed: 0\", axis=1)\n",
    "#        df = df.rename({\"Song\" :\"TITLE\", \"Artist\" : \"ARTIST\"}, axis=1)\n",
    "#        df = populate_lyrics(df)\n",
    "#        df_dict[name]=df\n",
    "#        print(f\"{name} COMPLETE\")\n",
    "#    except Exception as E:\n",
    "#        print(f\"{name} failed\")\n",
    "#        print(E)"
   ]
  },
  {
   "cell_type": "code",
   "execution_count": null,
   "metadata": {},
   "outputs": [],
   "source": []
  }
 ],
 "metadata": {
  "kernelspec": {
   "display_name": "Python 3",
   "language": "python",
   "name": "python3"
  },
  "language_info": {
   "codemirror_mode": {
    "name": "ipython",
    "version": 3
   },
   "file_extension": ".py",
   "mimetype": "text/x-python",
   "name": "python",
   "nbconvert_exporter": "python",
   "pygments_lexer": "ipython3",
   "version": "3.8.5"
  }
 },
 "nbformat": 4,
 "nbformat_minor": 4
}
