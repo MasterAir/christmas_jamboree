{
 "cells": [
  {
   "cell_type": "code",
   "execution_count": 180,
   "metadata": {},
   "outputs": [],
   "source": [
    "from textblob import TextBlob\n",
    "import tweepy"
   ]
  },
  {
   "cell_type": "code",
   "execution_count": 181,
   "metadata": {},
   "outputs": [],
   "source": [
    "class TwitterSongs():\n",
    "    \n",
    "    def __init__(self):\n",
    "        twitterKeys = open('twitter_keys.txt', 'r').read().splitlines()\n",
    "        apiKey = twitterKeys[0]\n",
    "        apiSecret = twitterKeys[1]\n",
    "        accessToken = twitterKeys[2]\n",
    "        accessTokenSecret = twitterKeys[3]\n",
    "\n",
    "        auth = tweepy.OAuthHandler(consumer_key=apiKey, consumer_secret=apiSecret)\n",
    "        auth.set_access_token(accessToken, accessTokenSecret)\n",
    "        self.api = tweepy.API(auth)\n",
    "    \n",
    "    def cleanTweet(self, tweet):\n",
    "        cleansed = tweet.replace('RT', '')\n",
    "        if cleansed.startswith(' @') or cleansed.startswith('@'):\n",
    "            position = cleansed.index(' ')\n",
    "            cleansed = cleansed[position+1:]\n",
    "        return cleansed\n",
    "\n",
    "    def printTweets(self, tweets):\n",
    "        for i, tweet in enumerate(tweets):\n",
    "            print('{}   #####################################\\n{}\\n\\n'.format(i,cleanTweet(tweet.text)))\n",
    "\n",
    "    def getTweets(self, searchTerm):\n",
    "        maxTweets = 1000\n",
    "        response = tweepy.Cursor(self.api.search, q=searchTerm, lang='en').items(maxTweets)\n",
    "        tweets = [cleanTweet(tweet.text) for tweet in response]\n",
    "        return tweets\n",
    "\n",
    "    def sentiment(self, tweets):\n",
    "        numTweets = len(tweets)\n",
    "        if numTweets == 0:\n",
    "            return 0\n",
    "        polarity = 0\n",
    "        for i, tweet in enumerate(tweets):\n",
    "            tb = TextBlob(cleanTweet(tweet))\n",
    "            polarity += tb.polarity\n",
    "        return polarity / numTweets"
   ]
  },
  {
   "cell_type": "code",
   "execution_count": 182,
   "metadata": {},
   "outputs": [],
   "source": [
    "shortlist = ['Jess Glynne - This Christmas',\n",
    "            'Liam Gallagher - All You’re Dreaming Of',]"
   ]
  },
  {
   "cell_type": "code",
   "execution_count": null,
   "metadata": {},
   "outputs": [],
   "source": [
    "tweetCount = {}\n",
    "tweetSentiment = {}\n",
    "ts = TwitterSongs()\n",
    "for song in shortlist:\n",
    "    tweets = ts.getTweets(song)\n",
    "    tweetCount[song] = len(tweets)\n",
    "    tweetSentiment[song] = ts.sentiment(tweets)"
   ]
  }
 ],
 "metadata": {
  "kernelspec": {
   "display_name": "Python 3",
   "language": "python",
   "name": "python3"
  },
  "language_info": {
   "codemirror_mode": {
    "name": "ipython",
    "version": 3
   },
   "file_extension": ".py",
   "mimetype": "text/x-python",
   "name": "python",
   "nbconvert_exporter": "python",
   "pygments_lexer": "ipython3",
   "version": "3.9.0"
  }
 },
 "nbformat": 4,
 "nbformat_minor": 4
}
